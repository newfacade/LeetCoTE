{
 "cells": [
  {
   "cell_type": "code",
   "execution_count": 1,
   "metadata": {},
   "outputs": [],
   "source": [
    "import json\n",
    "\n",
    "\n",
    "def read_jsonl(filename: str):\n",
    "    \"\"\"\n",
    "    Read a jsonl file (or a txt file), parse each line, and return a list.\n",
    "    \"\"\"\n",
    "    with open(filename, \"r\", encoding=\"utf-8\") as fp:\n",
    "        return [json.loads(line) for line in fp]\n",
    "\n",
    "\n",
    "def write_jsonl(filename: str, data: list):\n",
    "    \"\"\"\n",
    "    Write iterable data to a jsonl file.\n",
    "    \"\"\"\n",
    "    with open(filename, \"w\", encoding=\"utf-8\") as fp:\n",
    "        for x in data:\n",
    "            fp.write(json.dumps(x, ensure_ascii=False) + \"\\n\")"
   ]
  },
  {
   "cell_type": "code",
   "execution_count": 2,
   "metadata": {},
   "outputs": [
    {
     "data": {
      "text/plain": [
       "{'task_id': 'two-sum',\n",
       " 'prompt': \"from typing import *\\n\\nfrom functools import *\\nfrom collections import *\\nfrom itertools import *\\nfrom heapq import *\\nfrom bisect import *\\nfrom string import *\\nfrom operator import *\\nfrom math import *\\nimport math\\nimport datetime\\ninf = float('inf')\\n\",\n",
       " 'entry_point': 'Solution().twoSum',\n",
       " 'test': 'def check(candidate):\\n    assert candidate(nums = [2,7,11,15], target = 9) == [0,1]\\n    assert candidate(nums = [3,2,4], target = 6) == [1,2]\\n    assert candidate(nums = [3,3], target = 6) == [0,1]\\n',\n",
       " 'completion': 'class Solution:\\n    def twoSum(self, nums: List[int], target: int) -> List[int]:\\n        m = {}\\n        for i, x in enumerate(nums):\\n            y = target - x\\n            if y in m:\\n                return [m[y], i]\\n            m[x] = i\\n',\n",
       " 'examples': [{'input': 'nums = [2,7,11,15], target = 9', 'output': '[0,1]'},\n",
       "  {'input': 'nums = [3,2,4], target = 6', 'output': '[1,2]'},\n",
       "  {'input': 'nums = [3,3], target = 6', 'output': '[0,1]'}],\n",
       " 'meta': {'question_id': 1,\n",
       "  'difficulty': 'Easy',\n",
       "  'lang_code': 'class Solution:\\n    def twoSum(self, nums: List[int], target: int) -> List[int]:',\n",
       "  'en_question_title': 'Given an array of integers nums\\xa0and an integer target, return indices of the two numbers such that they add up to target.\\nYou may assume that each input would have exactly one solution, and you may not use the same element twice.\\nYou can return the answer in any order.\\n\\xa0\\nExample 1:\\n\\nInput: nums = [2,7,11,15], target = 9\\nOutput: [0,1]\\nExplanation: Because nums[0] + nums[1] == 9, we return [0, 1].\\n\\nExample 2:\\n\\nInput: nums = [3,2,4], target = 6\\nOutput: [1,2]\\n\\nExample 3:\\n\\nInput: nums = [3,3], target = 6\\nOutput: [0,1]\\n\\n\\xa0\\nConstraints:\\n\\n2 <= nums.length <= 104\\n-109 <= nums[i] <= 109\\n-109 <= target <= 109\\nOnly one valid answer exists.\\n\\n\\xa0\\nFollow-up:\\xa0Can you come up with an algorithm that is less than O(n2)\\xa0time complexity?',\n",
       "  'en_src': 'Given an array of integers nums\\xa0and an integer target, return indices of the two numbers such that they add up to target.\\nYou may assume that each input would have exactly one solution, and you may not use the same element twice.\\nYou can return the answer in any order.\\n\\xa0\\nPlease complete the following python code precisely:\\n```python\\nclass Solution:\\n    def twoSum(self, nums: List[int], target: int) -> List[int]:\\n```',\n",
       "  'en_tgt': \"To implement the `twoSum` method that finds two indices in the `nums` list such that the numbers at these indices add up to the `target`, you can use a dictionary to store the numbers you have already seen and their corresponding indices. This allows for efficient look-up to determine if the complementary number has already been encountered.\\n\\nHere is a complete implementation of the method:\\n\\n```python\\nfrom typing import List\\n\\nclass Solution:\\n    def twoSum(self, nums: List[int], target: int) -> List[int]:\\n        # Dictionary to store the numbers and their indices\\n        num_to_index = {}\\n        \\n        # Iterate over numbers in the array\\n        for i, num in enumerate(nums):\\n            # Calculate the complement of the current number\\n            complement = target - num\\n            \\n            # Check if the complement is in the dictionary\\n            if complement in num_to_index:\\n                # If found, return indices of the current number and its complement\\n                return [num_to_index[complement], i]\\n            \\n            # Otherwise, add the current number and its index to the dictionary\\n            num_to_index[num] = i\\n        \\n        # If no solution is found, this point should not be reached due to the problem's constraints\\n        return []\\n\\n# Example usage:\\n# solution = Solution()\\n# print(solution.twoSum([2, 7, 11, 15], 9))  # Output: [0, 1] because nums[0] + nums[1] == 9\\n```\\n\\n### Explanation:\\n- We iterate over the list of numbers and for each number, calculate its complement with respect to the `target`.\\n- We check if the complement already exists in our dictionary `num_to_index`.\\n- If it exists, it means we have found the two numbers that add up to the `target`, and we return their indices.\\n- If not, we store the current number along with its index in the dictionary for future look-up.\\n- This approach ensures that each number is processed in constant time, leading to an overall time complexity of O(n), where n is the number of elements in `nums`.\"}}"
      ]
     },
     "execution_count": 2,
     "metadata": {},
     "output_type": "execute_result"
    }
   ],
   "source": [
    "lst = read_jsonl('data/LeetCoTE-v1-problems.jsonl')\n",
    "lst[0]"
   ]
  },
  {
   "cell_type": "code",
   "execution_count": 3,
   "metadata": {},
   "outputs": [
    {
     "data": {
      "text/plain": [
       "{'task_id': 'two-sum',\n",
       " 'prompt': \"from typing import *\\n\\nfrom functools import *\\nfrom collections import *\\nfrom itertools import *\\nfrom heapq import *\\nfrom bisect import *\\nfrom string import *\\nfrom operator import *\\nfrom math import *\\nimport math\\nimport datetime\\ninf = float('inf')\\n\",\n",
       " 'entry_point': 'Solution().twoSum',\n",
       " 'test': 'def check(candidate):\\n    assert candidate(nums = [2,7,11,15], target = 9) == [0,1]\\n    assert candidate(nums = [3,2,4], target = 6) == [1,2]\\n    assert candidate(nums = [3,3], target = 6) == [0,1]\\n',\n",
       " 'completion': 'class Solution:\\n    def twoSum(self, nums: List[int], target: int) -> List[int]:\\n        m = {}\\n        for i, x in enumerate(nums):\\n            y = target - x\\n            if y in m:\\n                return [m[y], i]\\n            m[x] = i\\n',\n",
       " 'examples': [{'input': 'nums = [2,7,11,15], target = 9', 'output': '[0,1]'},\n",
       "  {'input': 'nums = [3,2,4], target = 6', 'output': '[1,2]'},\n",
       "  {'input': 'nums = [3,3], target = 6', 'output': '[0,1]'}],\n",
       " 'meta': {'question_id': 1,\n",
       "  'difficulty': 'Easy',\n",
       "  'lang_code': 'class Solution:\\n    def twoSum(self, nums: List[int], target: int) -> List[int]:',\n",
       "  'question_title': 'Given an array of integers nums\\xa0and an integer target, return indices of the two numbers such that they add up to target.\\nYou may assume that each input would have exactly one solution, and you may not use the same element twice.\\nYou can return the answer in any order.\\n\\xa0\\nExample 1:\\n\\nInput: nums = [2,7,11,15], target = 9\\nOutput: [0,1]\\nExplanation: Because nums[0] + nums[1] == 9, we return [0, 1].\\n\\nExample 2:\\n\\nInput: nums = [3,2,4], target = 6\\nOutput: [1,2]\\n\\nExample 3:\\n\\nInput: nums = [3,3], target = 6\\nOutput: [0,1]\\n\\n\\xa0\\nConstraints:\\n\\n2 <= nums.length <= 104\\n-109 <= nums[i] <= 109\\n-109 <= target <= 109\\nOnly one valid answer exists.\\n\\n\\xa0\\nFollow-up:\\xa0Can you come up with an algorithm that is less than O(n2)\\xa0time complexity?',\n",
       "  'query': 'Given an array of integers nums\\xa0and an integer target, return indices of the two numbers such that they add up to target.\\nYou may assume that each input would have exactly one solution, and you may not use the same element twice.\\nYou can return the answer in any order.\\n\\xa0\\nPlease complete the following python code precisely:\\n```python\\nclass Solution:\\n    def twoSum(self, nums: List[int], target: int) -> List[int]:\\n```',\n",
       "  'response': \"To implement the `twoSum` method that finds two indices in the `nums` list such that the numbers at these indices add up to the `target`, you can use a dictionary to store the numbers you have already seen and their corresponding indices. This allows for efficient look-up to determine if the complementary number has already been encountered.\\n\\nHere is a complete implementation of the method:\\n\\n```python\\nfrom typing import List\\n\\nclass Solution:\\n    def twoSum(self, nums: List[int], target: int) -> List[int]:\\n        # Dictionary to store the numbers and their indices\\n        num_to_index = {}\\n        \\n        # Iterate over numbers in the array\\n        for i, num in enumerate(nums):\\n            # Calculate the complement of the current number\\n            complement = target - num\\n            \\n            # Check if the complement is in the dictionary\\n            if complement in num_to_index:\\n                # If found, return indices of the current number and its complement\\n                return [num_to_index[complement], i]\\n            \\n            # Otherwise, add the current number and its index to the dictionary\\n            num_to_index[num] = i\\n        \\n        # If no solution is found, this point should not be reached due to the problem's constraints\\n        return []\\n\\n# Example usage:\\n# solution = Solution()\\n# print(solution.twoSum([2, 7, 11, 15], 9))  # Output: [0, 1] because nums[0] + nums[1] == 9\\n```\\n\\n### Explanation:\\n- We iterate over the list of numbers and for each number, calculate its complement with respect to the `target`.\\n- We check if the complement already exists in our dictionary `num_to_index`.\\n- If it exists, it means we have found the two numbers that add up to the `target`, and we return their indices.\\n- If not, we store the current number along with its index in the dictionary for future look-up.\\n- This approach ensures that each number is processed in constant time, leading to an overall time complexity of O(n), where n is the number of elements in `nums`.\"}}"
      ]
     },
     "execution_count": 3,
     "metadata": {},
     "output_type": "execute_result"
    }
   ],
   "source": [
    "for item in lst:\n",
    "    question_title = item['meta']['en_question_title']\n",
    "    query = item['meta']['en_src']\n",
    "    response = item['meta']['en_tgt']\n",
    "    item['meta']['question_title'] = question_title\n",
    "    item['meta']['query'] = query\n",
    "    item['meta']['response'] = response\n",
    "    del item['meta']['en_question_title']\n",
    "    del item['meta']['en_src']\n",
    "    del item['meta']['en_tgt']\n",
    "write_jsonl('data/LeetCoTE-v1-problems-processed.jsonl', lst)\n",
    "lst[0]"
   ]
  },
  {
   "cell_type": "code",
   "execution_count": 4,
   "metadata": {},
   "outputs": [
    {
     "data": {
      "text/plain": [
       "{'task_id': 'two-sum',\n",
       " 'prompt': \"from typing import *\\n\\nfrom functools import *\\nfrom collections import *\\nfrom itertools import *\\nfrom heapq import *\\nfrom bisect import *\\nfrom string import *\\nfrom operator import *\\nfrom math import *\\nimport math\\nimport datetime\\ninf = float('inf')\\n\",\n",
       " 'entry_point': 'Solution().twoSum',\n",
       " 'test': 'def check(candidate):\\n    assert candidate(nums = [2,7,11,15], target = 9) == [0,1]\\n    assert candidate(nums = [3,2,4], target = 6) == [1,2]\\n    assert candidate(nums = [3,3], target = 6) == [0,1]\\n',\n",
       " 'completion': 'class Solution:\\n    def twoSum(self, nums: List[int], target: int) -> List[int]:\\n        m = {}\\n        for i, x in enumerate(nums):\\n            y = target - x\\n            if y in m:\\n                return [m[y], i]\\n            m[x] = i\\n',\n",
       " 'examples': [{'input': 'nums = [2,7,11,15], target = 9', 'output': '[0,1]'},\n",
       "  {'input': 'nums = [3,2,4], target = 6', 'output': '[1,2]'},\n",
       "  {'input': 'nums = [3,3], target = 6', 'output': '[0,1]'}],\n",
       " 'meta': {'question_id': 1,\n",
       "  'difficulty': 'Easy',\n",
       "  'lang_code': 'class Solution:\\n    def twoSum(self, nums: List[int], target: int) -> List[int]:',\n",
       "  'question_title': 'Given an array of integers nums\\xa0and an integer target, return indices of the two numbers such that they add up to target.\\nYou may assume that each input would have exactly one solution, and you may not use the same element twice.\\nYou can return the answer in any order.\\n\\xa0\\nExample 1:\\n\\nInput: nums = [2,7,11,15], target = 9\\nOutput: [0,1]\\nExplanation: Because nums[0] + nums[1] == 9, we return [0, 1].\\n\\nExample 2:\\n\\nInput: nums = [3,2,4], target = 6\\nOutput: [1,2]\\n\\nExample 3:\\n\\nInput: nums = [3,3], target = 6\\nOutput: [0,1]\\n\\n\\xa0\\nConstraints:\\n\\n2 <= nums.length <= 104\\n-109 <= nums[i] <= 109\\n-109 <= target <= 109\\nOnly one valid answer exists.\\n\\n\\xa0\\nFollow-up:\\xa0Can you come up with an algorithm that is less than O(n2)\\xa0time complexity?',\n",
       "  'query': 'Given an array of integers nums\\xa0and an integer target, return indices of the two numbers such that they add up to target.\\nYou may assume that each input would have exactly one solution, and you may not use the same element twice.\\nYou can return the answer in any order.\\n\\xa0\\nPlease complete the following python code precisely:\\n```python\\nclass Solution:\\n    def twoSum(self, nums: List[int], target: int) -> List[int]:\\n```',\n",
       "  'response': \"To implement the `twoSum` method that finds two indices in the `nums` list such that the numbers at these indices add up to the `target`, you can use a dictionary to store the numbers you have already seen and their corresponding indices. This allows for efficient look-up to determine if the complementary number has already been encountered.\\n\\nHere is a complete implementation of the method:\\n\\n```python\\nfrom typing import List\\n\\nclass Solution:\\n    def twoSum(self, nums: List[int], target: int) -> List[int]:\\n        # Dictionary to store the numbers and their indices\\n        num_to_index = {}\\n        \\n        # Iterate over numbers in the array\\n        for i, num in enumerate(nums):\\n            # Calculate the complement of the current number\\n            complement = target - num\\n            \\n            # Check if the complement is in the dictionary\\n            if complement in num_to_index:\\n                # If found, return indices of the current number and its complement\\n                return [num_to_index[complement], i]\\n            \\n            # Otherwise, add the current number and its index to the dictionary\\n            num_to_index[num] = i\\n        \\n        # If no solution is found, this point should not be reached due to the problem's constraints\\n        return []\\n\\n# Example usage:\\n# solution = Solution()\\n# print(solution.twoSum([2, 7, 11, 15], 9))  # Output: [0, 1] because nums[0] + nums[1] == 9\\n```\\n\\n### Explanation:\\n- We iterate over the list of numbers and for each number, calculate its complement with respect to the `target`.\\n- We check if the complement already exists in our dictionary `num_to_index`.\\n- If it exists, it means we have found the two numbers that add up to the `target`, and we return their indices.\\n- If not, we store the current number along with its index in the dictionary for future look-up.\\n- This approach ensures that each number is processed in constant time, leading to an overall time complexity of O(n), where n is the number of elements in `nums`.\"}}"
      ]
     },
     "execution_count": 4,
     "metadata": {},
     "output_type": "execute_result"
    }
   ],
   "source": [
    "lst.sort(key=lambda x: x['meta']['question_id'])\n",
    "lst[0]"
   ]
  },
  {
   "cell_type": "code",
   "execution_count": 7,
   "metadata": {},
   "outputs": [
    {
     "data": {
      "text/plain": [
       "1570"
      ]
     },
     "execution_count": 7,
     "metadata": {},
     "output_type": "execute_result"
    }
   ],
   "source": [
    "1745 - 175"
   ]
  },
  {
   "cell_type": "code",
   "execution_count": 8,
   "metadata": {},
   "outputs": [
    {
     "data": {
      "text/plain": [
       "{'task_id': 'two-sum',\n",
       " 'prompt': \"from typing import *\\n\\nfrom functools import *\\nfrom collections import *\\nfrom itertools import *\\nfrom heapq import *\\nfrom bisect import *\\nfrom string import *\\nfrom operator import *\\nfrom math import *\\nimport math\\nimport datetime\\ninf = float('inf')\\n\",\n",
       " 'entry_point': 'Solution().twoSum',\n",
       " 'test': 'def check(candidate):\\n    assert candidate(nums = [2,7,11,15], target = 9) == [0,1]\\n    assert candidate(nums = [3,2,4], target = 6) == [1,2]\\n    assert candidate(nums = [3,3], target = 6) == [0,1]\\n',\n",
       " 'completion': 'class Solution:\\n    def twoSum(self, nums: List[int], target: int) -> List[int]:\\n        m = {}\\n        for i, x in enumerate(nums):\\n            y = target - x\\n            if y in m:\\n                return [m[y], i]\\n            m[x] = i\\n',\n",
       " 'examples': [{'input': 'nums = [2,7,11,15], target = 9', 'output': '[0,1]'},\n",
       "  {'input': 'nums = [3,2,4], target = 6', 'output': '[1,2]'},\n",
       "  {'input': 'nums = [3,3], target = 6', 'output': '[0,1]'}],\n",
       " 'meta': {'question_id': 1,\n",
       "  'difficulty': 'Easy',\n",
       "  'lang_code': 'class Solution:\\n    def twoSum(self, nums: List[int], target: int) -> List[int]:',\n",
       "  'question_title': 'Given an array of integers nums\\xa0and an integer target, return indices of the two numbers such that they add up to target.\\nYou may assume that each input would have exactly one solution, and you may not use the same element twice.\\nYou can return the answer in any order.\\n\\xa0\\nExample 1:\\n\\nInput: nums = [2,7,11,15], target = 9\\nOutput: [0,1]\\nExplanation: Because nums[0] + nums[1] == 9, we return [0, 1].\\n\\nExample 2:\\n\\nInput: nums = [3,2,4], target = 6\\nOutput: [1,2]\\n\\nExample 3:\\n\\nInput: nums = [3,3], target = 6\\nOutput: [0,1]\\n\\n\\xa0\\nConstraints:\\n\\n2 <= nums.length <= 104\\n-109 <= nums[i] <= 109\\n-109 <= target <= 109\\nOnly one valid answer exists.\\n\\n\\xa0\\nFollow-up:\\xa0Can you come up with an algorithm that is less than O(n2)\\xa0time complexity?',\n",
       "  'query': 'Given an array of integers nums\\xa0and an integer target, return indices of the two numbers such that they add up to target.\\nYou may assume that each input would have exactly one solution, and you may not use the same element twice.\\nYou can return the answer in any order.\\n\\xa0\\nPlease complete the following python code precisely:\\n```python\\nclass Solution:\\n    def twoSum(self, nums: List[int], target: int) -> List[int]:\\n```',\n",
       "  'response': \"To implement the `twoSum` method that finds two indices in the `nums` list such that the numbers at these indices add up to the `target`, you can use a dictionary to store the numbers you have already seen and their corresponding indices. This allows for efficient look-up to determine if the complementary number has already been encountered.\\n\\nHere is a complete implementation of the method:\\n\\n```python\\nfrom typing import List\\n\\nclass Solution:\\n    def twoSum(self, nums: List[int], target: int) -> List[int]:\\n        # Dictionary to store the numbers and their indices\\n        num_to_index = {}\\n        \\n        # Iterate over numbers in the array\\n        for i, num in enumerate(nums):\\n            # Calculate the complement of the current number\\n            complement = target - num\\n            \\n            # Check if the complement is in the dictionary\\n            if complement in num_to_index:\\n                # If found, return indices of the current number and its complement\\n                return [num_to_index[complement], i]\\n            \\n            # Otherwise, add the current number and its index to the dictionary\\n            num_to_index[num] = i\\n        \\n        # If no solution is found, this point should not be reached due to the problem's constraints\\n        return []\\n\\n# Example usage:\\n# solution = Solution()\\n# print(solution.twoSum([2, 7, 11, 15], 9))  # Output: [0, 1] because nums[0] + nums[1] == 9\\n```\\n\\n### Explanation:\\n- We iterate over the list of numbers and for each number, calculate its complement with respect to the `target`.\\n- We check if the complement already exists in our dictionary `num_to_index`.\\n- If it exists, it means we have found the two numbers that add up to the `target`, and we return their indices.\\n- If not, we store the current number along with its index in the dictionary for future look-up.\\n- This approach ensures that each number is processed in constant time, leading to an overall time complexity of O(n), where n is the number of elements in `nums`.\",\n",
       "  'split': 'train'}}"
      ]
     },
     "execution_count": 8,
     "metadata": {},
     "output_type": "execute_result"
    }
   ],
   "source": [
    "for item in lst[: 1570]:\n",
    "    item['meta']['split'] = 'train'\n",
    "for item in lst[1570:]:\n",
    "    item['meta']['split'] = 'test'\n",
    "lst[0]"
   ]
  },
  {
   "cell_type": "code",
   "execution_count": 9,
   "metadata": {},
   "outputs": [
    {
     "data": {
      "text/plain": [
       "{'task_id': 'special-array-i',\n",
       " 'prompt': \"from typing import *\\n\\nfrom functools import *\\nfrom collections import *\\nfrom itertools import *\\nfrom heapq import *\\nfrom bisect import *\\nfrom string import *\\nfrom operator import *\\nfrom math import *\\nimport math\\nimport datetime\\ninf = float('inf')\\n\\ndef pairwise(iterable):\\n    a, b = tee(iterable)\\n    next(b, None)\\n    return zip(a, b)\\n\",\n",
       " 'entry_point': 'Solution().isArraySpecial',\n",
       " 'test': 'def check(candidate):\\n    assert candidate(nums = [1]) == True\\n    assert candidate(nums = [2,1,4]) == True\\n    assert candidate(nums = [4,3,1,6]) == False\\n',\n",
       " 'completion': 'class Solution:\\n    def isArraySpecial(self, nums: List[int]) -> bool:\\n        return all(a % 2 != b % 2 for a, b in pairwise(nums))\\n',\n",
       " 'examples': [{'input': 'nums = [1]', 'output': 'true'},\n",
       "  {'input': 'nums = [2,1,4]', 'output': 'true'},\n",
       "  {'input': 'nums = [4,3,1,6]', 'output': 'false'}],\n",
       " 'meta': {'question_id': 3429,\n",
       "  'difficulty': 'Easy',\n",
       "  'lang_code': 'class Solution:\\n    def isArraySpecial(self, nums: List[int]) -> bool:',\n",
       "  'question_title': 'An array is considered special if every pair of its adjacent elements contains two numbers with different parity.\\nYou are given an array of integers nums. Return true if nums is a special array, otherwise, return false.\\n\\xa0\\nExample 1:\\n\\nInput: nums = [1]\\nOutput: true\\nExplanation:\\nThere is only one element. So the answer is true.\\n\\nExample 2:\\n\\nInput: nums = [2,1,4]\\nOutput: true\\nExplanation:\\nThere is only two pairs: (2,1) and (1,4), and both of them contain numbers with different parity. So the answer is true.\\n\\nExample 3:\\n\\nInput: nums = [4,3,1,6]\\nOutput: false\\nExplanation:\\nnums[1] and nums[2] are both odd. So the answer is false.\\n\\n\\xa0\\nConstraints:\\n\\n1 <= nums.length <= 100\\n1 <= nums[i] <= 100\\n\\n',\n",
       "  'query': 'An array is considered special if every pair of its adjacent elements contains two numbers with different parity.\\nYou are given an array of integers nums. Return true if nums is a special array, otherwise, return false.\\n\\xa0\\nPlease complete the following python code precisely:\\n```python\\nclass Solution:\\n    def isArraySpecial(self, nums: List[int]) -> bool:\\n```',\n",
       "  'response': \"To determine whether the given array is special, you need to check if each pair of adjacent elements in the array consists of numbers with different parity. That means one number should be even and the other should be odd in every adjacent pair.\\n\\nHere's how you can implement this logic in Python:\\n\\n```python\\nfrom typing import List\\n\\nclass Solution:\\n    def isArraySpecial(self, nums: List[int]) -> bool:\\n        # Check each pair of adjacent elements in the array\\n        for i in range(len(nums) - 1):\\n            # If both have the same parity, return False\\n            if nums[i] % 2 == nums[i + 1] % 2:\\n                return False\\n        # If all pairs have different parity, return True\\n        return True\\n```\\n\\n### Explanation:\\n\\n- **Iteration:** You loop through each element in the array except the last one to compare with the next.\\n  \\n- **Parity Check:** You compare the parity of `nums[i]` and `nums[i + 1]` using the modulus operator `%`.\\n  - `nums[i] % 2` returns `0` if the number is even and `1` if it's odd.\\n  - If both the current and next element have the same result (either both even or both odd), the array is not special, hence return `False`.\\n\\n- **Return True:** If you complete the loop without encountering two numbers of the same parity, the array is special.\\n\\nThis function efficiently checks the condition in O(n) time, where n is the number of elements in the array, by using a single pass through the array.\",\n",
       "  'split': 'test'}}"
      ]
     },
     "execution_count": 9,
     "metadata": {},
     "output_type": "execute_result"
    }
   ],
   "source": [
    "lst[-1]"
   ]
  },
  {
   "cell_type": "code",
   "execution_count": 10,
   "metadata": {},
   "outputs": [],
   "source": [
    "write_jsonl('data/LeetCoTE-v1-problems-processed.jsonl', lst)"
   ]
  },
  {
   "cell_type": "code",
   "execution_count": 11,
   "metadata": {},
   "outputs": [],
   "source": [
    "write_jsonl('data/LeetCoTE-v1-train-problems.jsonl', lst[: 1570])\n",
    "write_jsonl('data/LeetCoTE-v1-test-problems.jsonl', lst[1570:])"
   ]
  },
  {
   "cell_type": "code",
   "execution_count": 12,
   "metadata": {},
   "outputs": [
    {
     "data": {
      "text/plain": [
       "{'task_id': 'two-sum',\n",
       " 'prompt': \"from typing import *\\n\\nfrom functools import *\\nfrom collections import *\\nfrom itertools import *\\nfrom heapq import *\\nfrom bisect import *\\nfrom string import *\\nfrom operator import *\\nfrom math import *\\nimport math\\nimport datetime\\ninf = float('inf')\\n\",\n",
       " 'entry_point': 'Solution().twoSum',\n",
       " 'test': 'def check(candidate):\\n    assert candidate(nums = [2,7,11,15], target = 9) == [0,1]\\n    assert candidate(nums = [3,2,4], target = 6) == [1,2]\\n    assert candidate(nums = [3,3], target = 6) == [0,1]\\n',\n",
       " 'completion': 'class Solution:\\n    def twoSum(self, nums: List[int], target: int) -> List[int]:\\n        m = {}\\n        for i, x in enumerate(nums):\\n            y = target - x\\n            if y in m:\\n                return [m[y], i]\\n            m[x] = i\\n',\n",
       " 'examples': [{'input': 'nums = [2,7,11,15], target = 9', 'output': '[0,1]'},\n",
       "  {'input': 'nums = [3,2,4], target = 6', 'output': '[1,2]'},\n",
       "  {'input': 'nums = [3,3], target = 6', 'output': '[0,1]'}],\n",
       " 'meta': {'question_id': 1,\n",
       "  'difficulty': 'Easy',\n",
       "  'lang_code': 'class Solution:\\n    def twoSum(self, nums: List[int], target: int) -> List[int]:',\n",
       "  'question_title': 'Given an array of integers nums\\xa0and an integer target, return indices of the two numbers such that they add up to target.\\nYou may assume that each input would have exactly one solution, and you may not use the same element twice.\\nYou can return the answer in any order.\\n\\xa0\\nExample 1:\\n\\nInput: nums = [2,7,11,15], target = 9\\nOutput: [0,1]\\nExplanation: Because nums[0] + nums[1] == 9, we return [0, 1].\\n\\nExample 2:\\n\\nInput: nums = [3,2,4], target = 6\\nOutput: [1,2]\\n\\nExample 3:\\n\\nInput: nums = [3,3], target = 6\\nOutput: [0,1]\\n\\n\\xa0\\nConstraints:\\n\\n2 <= nums.length <= 104\\n-109 <= nums[i] <= 109\\n-109 <= target <= 109\\nOnly one valid answer exists.\\n\\n\\xa0\\nFollow-up:\\xa0Can you come up with an algorithm that is less than O(n2)\\xa0time complexity?',\n",
       "  'query': 'Given an array of integers nums\\xa0and an integer target, return indices of the two numbers such that they add up to target.\\nYou may assume that each input would have exactly one solution, and you may not use the same element twice.\\nYou can return the answer in any order.\\n\\xa0\\nPlease complete the following python code precisely:\\n```python\\nclass Solution:\\n    def twoSum(self, nums: List[int], target: int) -> List[int]:\\n```',\n",
       "  'response': \"To implement the `twoSum` method that finds two indices in the `nums` list such that the numbers at these indices add up to the `target`, you can use a dictionary to store the numbers you have already seen and their corresponding indices. This allows for efficient look-up to determine if the complementary number has already been encountered.\\n\\nHere is a complete implementation of the method:\\n\\n```python\\nfrom typing import List\\n\\nclass Solution:\\n    def twoSum(self, nums: List[int], target: int) -> List[int]:\\n        # Dictionary to store the numbers and their indices\\n        num_to_index = {}\\n        \\n        # Iterate over numbers in the array\\n        for i, num in enumerate(nums):\\n            # Calculate the complement of the current number\\n            complement = target - num\\n            \\n            # Check if the complement is in the dictionary\\n            if complement in num_to_index:\\n                # If found, return indices of the current number and its complement\\n                return [num_to_index[complement], i]\\n            \\n            # Otherwise, add the current number and its index to the dictionary\\n            num_to_index[num] = i\\n        \\n        # If no solution is found, this point should not be reached due to the problem's constraints\\n        return []\\n\\n# Example usage:\\n# solution = Solution()\\n# print(solution.twoSum([2, 7, 11, 15], 9))  # Output: [0, 1] because nums[0] + nums[1] == 9\\n```\\n\\n### Explanation:\\n- We iterate over the list of numbers and for each number, calculate its complement with respect to the `target`.\\n- We check if the complement already exists in our dictionary `num_to_index`.\\n- If it exists, it means we have found the two numbers that add up to the `target`, and we return their indices.\\n- If not, we store the current number along with its index in the dictionary for future look-up.\\n- This approach ensures that each number is processed in constant time, leading to an overall time complexity of O(n), where n is the number of elements in `nums`.\",\n",
       "  'split': 'train'}}"
      ]
     },
     "execution_count": 12,
     "metadata": {},
     "output_type": "execute_result"
    }
   ],
   "source": [
    "lst[0]"
   ]
  },
  {
   "cell_type": "code",
   "execution_count": 14,
   "metadata": {},
   "outputs": [
    {
     "data": {
      "text/plain": [
       "{'task_id': 'special-array-i',\n",
       " 'prompt': \"from typing import *\\n\\nfrom functools import *\\nfrom collections import *\\nfrom itertools import *\\nfrom heapq import *\\nfrom bisect import *\\nfrom string import *\\nfrom operator import *\\nfrom math import *\\nimport math\\nimport datetime\\ninf = float('inf')\\n\\ndef pairwise(iterable):\\n    a, b = tee(iterable)\\n    next(b, None)\\n    return zip(a, b)\\n\",\n",
       " 'entry_point': 'Solution().isArraySpecial',\n",
       " 'test': 'def check(candidate):\\n    assert candidate(nums = [1]) == True\\n    assert candidate(nums = [2,1,4]) == True\\n    assert candidate(nums = [4,3,1,6]) == False\\n',\n",
       " 'completion': 'class Solution:\\n    def isArraySpecial(self, nums: List[int]) -> bool:\\n        return all(a % 2 != b % 2 for a, b in pairwise(nums))\\n',\n",
       " 'examples': [{'input': 'nums = [1]', 'output': 'true'},\n",
       "  {'input': 'nums = [2,1,4]', 'output': 'true'},\n",
       "  {'input': 'nums = [4,3,1,6]', 'output': 'false'}],\n",
       " 'meta': {'question_id': 3429,\n",
       "  'difficulty': 'Easy',\n",
       "  'lang_code': 'class Solution:\\n    def isArraySpecial(self, nums: List[int]) -> bool:',\n",
       "  'question_title': 'An array is considered special if every pair of its adjacent elements contains two numbers with different parity.\\nYou are given an array of integers nums. Return true if nums is a special array, otherwise, return false.\\n\\xa0\\nExample 1:\\n\\nInput: nums = [1]\\nOutput: true\\nExplanation:\\nThere is only one element. So the answer is true.\\n\\nExample 2:\\n\\nInput: nums = [2,1,4]\\nOutput: true\\nExplanation:\\nThere is only two pairs: (2,1) and (1,4), and both of them contain numbers with different parity. So the answer is true.\\n\\nExample 3:\\n\\nInput: nums = [4,3,1,6]\\nOutput: false\\nExplanation:\\nnums[1] and nums[2] are both odd. So the answer is false.\\n\\n\\xa0\\nConstraints:\\n\\n1 <= nums.length <= 100\\n1 <= nums[i] <= 100\\n\\n',\n",
       "  'query': 'An array is considered special if every pair of its adjacent elements contains two numbers with different parity.\\nYou are given an array of integers nums. Return true if nums is a special array, otherwise, return false.\\n\\xa0\\nPlease complete the following python code precisely:\\n```python\\nclass Solution:\\n    def isArraySpecial(self, nums: List[int]) -> bool:\\n```',\n",
       "  'response': \"To determine whether the given array is special, you need to check if each pair of adjacent elements in the array consists of numbers with different parity. That means one number should be even and the other should be odd in every adjacent pair.\\n\\nHere's how you can implement this logic in Python:\\n\\n```python\\nfrom typing import List\\n\\nclass Solution:\\n    def isArraySpecial(self, nums: List[int]) -> bool:\\n        # Check each pair of adjacent elements in the array\\n        for i in range(len(nums) - 1):\\n            # If both have the same parity, return False\\n            if nums[i] % 2 == nums[i + 1] % 2:\\n                return False\\n        # If all pairs have different parity, return True\\n        return True\\n```\\n\\n### Explanation:\\n\\n- **Iteration:** You loop through each element in the array except the last one to compare with the next.\\n  \\n- **Parity Check:** You compare the parity of `nums[i]` and `nums[i + 1]` using the modulus operator `%`.\\n  - `nums[i] % 2` returns `0` if the number is even and `1` if it's odd.\\n  - If both the current and next element have the same result (either both even or both odd), the array is not special, hence return `False`.\\n\\n- **Return True:** If you complete the loop without encountering two numbers of the same parity, the array is special.\\n\\nThis function efficiently checks the condition in O(n) time, where n is the number of elements in the array, by using a single pass through the array.\",\n",
       "  'split': 'test'}}"
      ]
     },
     "execution_count": 14,
     "metadata": {},
     "output_type": "execute_result"
    }
   ],
   "source": [
    "lst[-1]"
   ]
  },
  {
   "cell_type": "code",
   "execution_count": null,
   "metadata": {},
   "outputs": [],
   "source": []
  }
 ],
 "metadata": {
  "kernelspec": {
   "display_name": "codex",
   "language": "python",
   "name": "python3"
  },
  "language_info": {
   "codemirror_mode": {
    "name": "ipython",
    "version": 3
   },
   "file_extension": ".py",
   "mimetype": "text/x-python",
   "name": "python",
   "nbconvert_exporter": "python",
   "pygments_lexer": "ipython3",
   "version": "3.12.2"
  }
 },
 "nbformat": 4,
 "nbformat_minor": 2
}
